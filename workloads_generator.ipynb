{
 "cells": [
  {
   "cell_type": "code",
   "execution_count": null,
   "id": "4b919b79",
   "metadata": {},
   "outputs": [],
   "source": [
    "import numpy as np\n",
    "import json\n",
    "import math"
   ]
  },
  {
   "cell_type": "code",
   "execution_count": null,
   "id": "bb7e27ed",
   "metadata": {},
   "outputs": [],
   "source": [
    "class ProblemGenerator:\n",
    "    def __init__(self, lambda_arrival=0.2, mu_execution=50, sigma_execution=2,\n",
    "                 mu_noise=0, sigma_noise=1, num_jobs=None, max_node=8):\n",
    "        self.lambda_arrival = lambda_arrival\n",
    "        self.mu_execution = mu_execution\n",
    "        self.sigma_execution = sigma_execution\n",
    "        self.mu_noise = mu_noise\n",
    "        self.sigma_noise = sigma_noise\n",
    "        self.max_node = max_node\n",
    "        self.num_jobs = num_jobs if num_jobs is not None else max(1, int(np.random.normal(10, 2)))\n",
    "\n",
    "    def generate(self):\n",
    "        interarrival_times = np.random.exponential(1 / self.lambda_arrival, self.num_jobs)\n",
    "        arrival_times = np.cumsum(interarrival_times)\n",
    "        requested_execution_times = np.random.normal(self.mu_execution, self.sigma_execution, self.num_jobs)\n",
    "        noise = np.random.normal(self.mu_noise, self.sigma_noise, self.num_jobs)\n",
    "\n",
    "        actual_execution_times = np.maximum(0, requested_execution_times + noise)\n",
    "        num_nodes_required = np.clip(np.random.normal(math.ceil(self.max_node/2), 1, self.num_jobs), 1, self.max_node)\n",
    "        workloads = []\n",
    "\n",
    "        for i in range(self.num_jobs):\n",
    "            workloads.append({\n",
    "                \"id\": i + 1,\n",
    "                'res': int(num_nodes_required[i]),\n",
    "                'subtime': 0,\n",
    "                'walltime': round(float(requested_execution_times[i])),\n",
    "                'profile': '100',\n",
    "                'user_id': 0\n",
    "            })\n",
    "\n",
    "        return workloads\n",
    "\n"
   ]
  },
  {
   "cell_type": "code",
   "execution_count": null,
   "id": "17f29de1",
   "metadata": {},
   "outputs": [],
   "source": [
    "# Number of jobs to generate\n",
    "num_jobs = 100\n",
    "# Maximum number of nodes per job\n",
    "max_node = 16\n",
    "# Path to output JSON\n",
    "output_path = \"workloads/generated.json\""
   ]
  },
  {
   "cell_type": "code",
   "execution_count": null,
   "id": "b134c49d",
   "metadata": {},
   "outputs": [],
   "source": [
    "problem_generator = ProblemGenerator(num_jobs=num_jobs, max_node=max_node)\n",
    "workloads = problem_generator.generate()\n",
    "\n",
    "output_data = {\n",
    "    \"nb_res\": max_node,\n",
    "    \"jobs\": workloads,\n",
    "    \"profiles\": {\n",
    "        \"100\": {\n",
    "            \"cpu\": 10000000000000000000000,\n",
    "            \"com\": 0,\n",
    "            \"type\": \"parallel_homogeneous\"\n",
    "        }\n",
    "    }\n",
    "}\n",
    "\n",
    "workload_filepath = output_path\n",
    "with open(workload_filepath, \"w\") as json_file:\n",
    "    json.dump(output_data, json_file, indent=4)"
   ]
  }
 ],
 "metadata": {
  "language_info": {
   "name": "python"
  }
 },
 "nbformat": 4,
 "nbformat_minor": 5
}
