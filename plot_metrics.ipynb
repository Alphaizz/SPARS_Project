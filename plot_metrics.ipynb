{
 "cells": [
  {
   "cell_type": "markdown",
   "id": "c2f50d02",
   "metadata": {},
   "source": [
    "\n",
    "# Plot Metrics from `results/generated_*`\n",
    "\n",
    "This notebook scans folders like `results/generated_5`, `results/generated_10`, ..., `results/generated_60`,\n",
    "reads each `metrics.csv` (columns: `total_waiting_time,total_energy_waste`), and produces **two bar charts**:\n",
    "\n",
    "1. **Energy Waste vs Folder** — y = `total_energy_waste`, x = folder number (5,10,...,60).\n",
    "2. **Waiting Time vs Folder** — y = `total_waiting_time`, x = folder number (5,10,...,60).\n",
    "\n",
    "The figures are also saved to `results/plots/`.\n"
   ]
  },
  {
   "cell_type": "code",
   "execution_count": 17,
   "id": "0c40add1",
   "metadata": {},
   "outputs": [],
   "source": [
    "\n",
    "import os\n",
    "import re\n",
    "from pathlib import Path\n",
    "import pandas as pd\n",
    "import matplotlib.pyplot as plt\n",
    "import numpy as np\n",
    "\n",
    "# Inline plots\n",
    "%matplotlib inline\n"
   ]
  },
  {
   "cell_type": "code",
   "execution_count": 18,
   "id": "5564d3da",
   "metadata": {},
   "outputs": [
    {
     "name": "stdout",
     "output_type": "stream",
     "text": [
      "Results dir: D:\\Archive\\.projects\\SPARS\\SPARS\\results\n",
      "Output dir : D:\\Archive\\.projects\\SPARS\\SPARS\\results\\plots\n"
     ]
    }
   ],
   "source": [
    "\n",
    "# Change this if needed\n",
    "results_dir = Path('results')    # directory containing generated_* folders\n",
    "output_dir  = results_dir / 'plots'\n",
    "output_dir.mkdir(parents=True, exist_ok=True)\n",
    "print('Results dir:', results_dir.resolve())\n",
    "print('Output dir :', output_dir.resolve())\n"
   ]
  },
  {
   "cell_type": "code",
   "execution_count": 19,
   "id": "3fea8f4a",
   "metadata": {},
   "outputs": [],
   "source": [
    "\n",
    "def collect_metrics(results_dir: Path):\n",
    "    import re, pandas as pd, os\n",
    "    pat = re.compile(r'^nasa_20_back_timeout_(\\d+)$')\n",
    "    rows = []\n",
    "    for entry in results_dir.iterdir():\n",
    "        if not entry.is_dir():\n",
    "            continue\n",
    "        m = pat.match(entry.name)\n",
    "        if not m:\n",
    "            continue\n",
    "        k = int(m.group(1))\n",
    "        csv_path = entry / 'metrics.csv'\n",
    "        if not csv_path.is_file():\n",
    "            continue\n",
    "        try:\n",
    "            df = pd.read_csv(csv_path)\n",
    "        except Exception as e:\n",
    "            print(f\"[WARN] Failed to read {csv_path}: {e}\")\n",
    "            continue\n",
    "        cols = [c.lower().strip() for c in df.columns.tolist()]\n",
    "        if 'total_waiting_time' in cols and 'total_energy_waste' in cols:\n",
    "            tw = float(df['total_waiting_time'].iloc[0])\n",
    "            te = float(df['total_energy_waste'].iloc[0])\n",
    "        else:\n",
    "            try:\n",
    "                tw = float(df.iloc[0, 0])\n",
    "                te = float(df.iloc[0, 1])\n",
    "            except Exception as e:\n",
    "                print(f\"[WARN] Bad format in {csv_path}: {e}\")\n",
    "                continue\n",
    "        rows.append((k, te, tw))\n",
    "    rows.sort(key=lambda x: x[0])\n",
    "    return rows\n",
    "\n",
    "def plot_bars(xs, ys, xlabel, ylabel, title, out_path):\n",
    "    import matplotlib.pyplot as plt\n",
    "    import numpy as np\n",
    "\n",
    "    # Map x labels to dense positions so bars are wider visually\n",
    "    idx = np.arange(len(xs))\n",
    "    fig, ax = plt.subplots()\n",
    "    bars = ax.bar(idx, ys, width=0.9)  # wider bars\n",
    "\n",
    "    # X ticks as the folder numbers\n",
    "    ax.set_xticks(idx, [str(x) for x in xs])\n",
    "    ax.set_xlabel(xlabel)\n",
    "    ax.set_ylabel(ylabel)\n",
    "    ax.set_title(title)\n",
    "\n",
    "    # Choose label format: integers -> %d, else -> %.2f\n",
    "    if all(float(y).is_integer() for y in ys):\n",
    "        fmt = '%d'\n",
    "    else:\n",
    "        fmt = '%.2f'\n",
    "\n",
    "    # Add value labels above bars\n",
    "    for rect, y in zip(bars, ys):\n",
    "        height = rect.get_height()\n",
    "        ax.text(rect.get_x() + rect.get_width()/2.0, height,\n",
    "                fmt % y,\n",
    "                ha='center', va='bottom', fontsize=8, rotation=0)\n",
    "\n",
    "    fig.tight_layout()\n",
    "    fig.savefig(out_path, dpi=150)\n",
    "    plt.show()\n"
   ]
  },
  {
   "cell_type": "code",
   "execution_count": 20,
   "id": "f926807c",
   "metadata": {},
   "outputs": [
    {
     "data": {
      "application/vnd.microsoft.datawrangler.viewer.v0+json": {
       "columns": [
        {
         "name": "index",
         "rawType": "int64",
         "type": "integer"
        },
        {
         "name": "folder",
         "rawType": "int64",
         "type": "integer"
        },
        {
         "name": "total_energy_waste",
         "rawType": "float64",
         "type": "float"
        },
        {
         "name": "total_waiting_time",
         "rawType": "float64",
         "type": "float"
        }
       ],
       "ref": "7476adc7-fa8a-4984-a7f0-8f38749c932d",
       "rows": [
        [
         "0",
         "300",
         "7919918443.0",
         "3292.372440509131"
        ],
        [
         "1",
         "600",
         "8396795736.0",
         "2001.0639180962921"
        ],
        [
         "2",
         "900",
         "8276493111.0",
         "1969.5304371887105"
        ],
        [
         "3",
         "1200",
         "8570625618.0",
         "1498.6654676258993"
        ],
        [
         "4",
         "1500",
         "9080703735.0",
         "1162.8206972883231"
        ],
        [
         "5",
         "1800",
         "9504263542.0",
         "1071.1081903707802"
        ],
        [
         "6",
         "2100",
         "9718621799.0",
         "1018.8270614277809"
        ],
        [
         "7",
         "2400",
         "9885322448.0",
         "885.8945766463752"
        ],
        [
         "8",
         "2700",
         "10139033721.0",
         "817.4878251245158"
        ],
        [
         "9",
         "3000",
         "10489008050.0",
         "769.5863309352518"
        ]
       ],
       "shape": {
        "columns": 3,
        "rows": 10
       }
      },
      "text/html": [
       "<div>\n",
       "<style scoped>\n",
       "    .dataframe tbody tr th:only-of-type {\n",
       "        vertical-align: middle;\n",
       "    }\n",
       "\n",
       "    .dataframe tbody tr th {\n",
       "        vertical-align: top;\n",
       "    }\n",
       "\n",
       "    .dataframe thead th {\n",
       "        text-align: right;\n",
       "    }\n",
       "</style>\n",
       "<table border=\"1\" class=\"dataframe\">\n",
       "  <thead>\n",
       "    <tr style=\"text-align: right;\">\n",
       "      <th></th>\n",
       "      <th>folder</th>\n",
       "      <th>total_energy_waste</th>\n",
       "      <th>total_waiting_time</th>\n",
       "    </tr>\n",
       "  </thead>\n",
       "  <tbody>\n",
       "    <tr>\n",
       "      <th>0</th>\n",
       "      <td>300</td>\n",
       "      <td>7.919918e+09</td>\n",
       "      <td>3292.372441</td>\n",
       "    </tr>\n",
       "    <tr>\n",
       "      <th>1</th>\n",
       "      <td>600</td>\n",
       "      <td>8.396796e+09</td>\n",
       "      <td>2001.063918</td>\n",
       "    </tr>\n",
       "    <tr>\n",
       "      <th>2</th>\n",
       "      <td>900</td>\n",
       "      <td>8.276493e+09</td>\n",
       "      <td>1969.530437</td>\n",
       "    </tr>\n",
       "    <tr>\n",
       "      <th>3</th>\n",
       "      <td>1200</td>\n",
       "      <td>8.570626e+09</td>\n",
       "      <td>1498.665468</td>\n",
       "    </tr>\n",
       "    <tr>\n",
       "      <th>4</th>\n",
       "      <td>1500</td>\n",
       "      <td>9.080704e+09</td>\n",
       "      <td>1162.820697</td>\n",
       "    </tr>\n",
       "    <tr>\n",
       "      <th>5</th>\n",
       "      <td>1800</td>\n",
       "      <td>9.504264e+09</td>\n",
       "      <td>1071.108190</td>\n",
       "    </tr>\n",
       "    <tr>\n",
       "      <th>6</th>\n",
       "      <td>2100</td>\n",
       "      <td>9.718622e+09</td>\n",
       "      <td>1018.827061</td>\n",
       "    </tr>\n",
       "    <tr>\n",
       "      <th>7</th>\n",
       "      <td>2400</td>\n",
       "      <td>9.885322e+09</td>\n",
       "      <td>885.894577</td>\n",
       "    </tr>\n",
       "    <tr>\n",
       "      <th>8</th>\n",
       "      <td>2700</td>\n",
       "      <td>1.013903e+10</td>\n",
       "      <td>817.487825</td>\n",
       "    </tr>\n",
       "    <tr>\n",
       "      <th>9</th>\n",
       "      <td>3000</td>\n",
       "      <td>1.048901e+10</td>\n",
       "      <td>769.586331</td>\n",
       "    </tr>\n",
       "  </tbody>\n",
       "</table>\n",
       "</div>"
      ],
      "text/plain": [
       "   folder  total_energy_waste  total_waiting_time\n",
       "0     300        7.919918e+09         3292.372441\n",
       "1     600        8.396796e+09         2001.063918\n",
       "2     900        8.276493e+09         1969.530437\n",
       "3    1200        8.570626e+09         1498.665468\n",
       "4    1500        9.080704e+09         1162.820697\n",
       "5    1800        9.504264e+09         1071.108190\n",
       "6    2100        9.718622e+09         1018.827061\n",
       "7    2400        9.885322e+09          885.894577\n",
       "8    2700        1.013903e+10          817.487825\n",
       "9    3000        1.048901e+10          769.586331"
      ]
     },
     "metadata": {},
     "output_type": "display_data"
    },
    {
     "data": {
      "image/png": "[encoded data removed]",
      "text/plain": [
       "<Figure size 640x480 with 1 Axes>"
      ]
     },
     "metadata": {},
     "output_type": "display_data"
    },
    {
     "data": {
      "image/png": "[encoded data removed]",
      "text/plain": [
       "<Figure size 640x480 with 1 Axes>"
      ]
     },
     "metadata": {},
     "output_type": "display_data"
    },
    {
     "name": "stdout",
     "output_type": "stream",
     "text": [
      "Saved: results\\plots\\summary.csv\n",
      "Saved: results\\plots\\energy_waste_bar.png\n",
      "Saved: results\\plots\\waiting_time_bar.png\n"
     ]
    }
   ],
   "source": [
    "\n",
    "rows = collect_metrics(results_dir)\n",
    "if not rows:\n",
    "    raise SystemExit(f\"No metrics found under {results_dir}/generated_*/metrics.csv\")\n",
    "\n",
    "xs  = [r[0] for r in rows]\n",
    "tew = [r[1] for r in rows]  # total_energy_waste\n",
    "twt = [r[2] for r in rows]  # total_waiting_time\n",
    "twt = (np.array(twt) / 3614).tolist()\n",
    "\n",
    "# Save a summary table (optional)\n",
    "summary = pd.DataFrame({'folder': xs, 'total_energy_waste': tew, 'total_waiting_time': twt})\n",
    "summary_path = output_dir / 'summary.csv'\n",
    "summary.to_csv(summary_path, index=False)\n",
    "display(summary)\n",
    "\n",
    "# Plot 1: Energy waste bars\n",
    "plot_bars(xs, tew, 'Folder number', 'Total energy waste',\n",
    "          'Energy Waste vs Folder', output_dir / 'energy_waste_bar.png')\n",
    "\n",
    "# Plot 2: Waiting time bars\n",
    "plot_bars(xs, twt, 'Folder number', 'Total waiting time',\n",
    "          'Waiting Time vs Folder', output_dir / 'waiting_time_bar.png')\n",
    "\n",
    "print(\"Saved:\", summary_path)\n",
    "print(\"Saved:\", output_dir / 'energy_waste_bar.png')\n",
    "print(\"Saved:\", output_dir / 'waiting_time_bar.png')\n"
   ]
  }
 ],
 "metadata": {
  "kernelspec": {
   "display_name": "SPARS-venv",
   "language": "python",
   "name": "python3"
  },
  "language_info": {
   "codemirror_mode": {
    "name": "ipython",
    "version": 3
   },
   "file_extension": ".py",
   "mimetype": "text/x-python",
   "name": "python",
   "nbconvert_exporter": "python",
   "pygments_lexer": "ipython3",
   "version": "3.11.5"
  }
 },
 "nbformat": 4,
 "nbformat_minor": 5
}
