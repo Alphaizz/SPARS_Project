{
 "cells": [
  {
   "cell_type": "markdown",
   "id": "c2f50d02",
   "metadata": {},
   "source": [
    "\n",
    "# Plot Metrics from `results/generated_*`\n",
    "\n",
    "This notebook scans folders like `results/generated_5`, `results/generated_10`, ..., `results/generated_60`,\n",
    "reads each `metrics.csv` (columns: `total_waiting_time,total_energy_waste`), and produces **two bar charts**:\n",
    "\n",
    "1. **Energy Waste vs Folder** — y = `total_energy_waste`, x = folder number (5,10,...,60).\n",
    "2. **Waiting Time vs Folder** — y = `total_waiting_time`, x = folder number (5,10,...,60).\n",
    "\n",
    "The figures are also saved to `results/plots/`.\n"
   ]
  },
  {
   "cell_type": "code",
   "execution_count": 41,
   "id": "0c40add1",
   "metadata": {},
   "outputs": [],
   "source": [
    "\n",
    "import os\n",
    "import re\n",
    "from pathlib import Path\n",
    "import pandas as pd\n",
    "import matplotlib.pyplot as plt\n",
    "import numpy as np\n",
    "\n",
    "# Inline plots\n",
    "%matplotlib inline\n"
   ]
  },
  {
   "cell_type": "code",
   "execution_count": 42,
   "id": "5564d3da",
   "metadata": {},
   "outputs": [
    {
     "name": "stdout",
     "output_type": "stream",
     "text": [
      "Results dir: D:\\Archive\\.projects\\SPARS\\SPARS\\results\n",
      "Output dir : D:\\Archive\\.projects\\SPARS\\SPARS\\results\\plots\n"
     ]
    }
   ],
   "source": [
    "\n",
    "# Change this if needed\n",
    "results_dir = Path('results')    # directory containing generated_* folders\n",
    "output_dir  = results_dir / 'plots'\n",
    "output_dir.mkdir(parents=True, exist_ok=True)\n",
    "print('Results dir:', results_dir.resolve())\n",
    "print('Output dir :', output_dir.resolve())\n"
   ]
  },
  {
   "cell_type": "code",
   "execution_count": 43,
   "id": "3fea8f4a",
   "metadata": {},
   "outputs": [],
   "source": [
    "\n",
    "def collect_metrics(results_dir: Path):\n",
    "    import re, pandas as pd, os\n",
    "    pat = re.compile(r'^generated_200_16_(\\d+)$')\n",
    "    rows = []\n",
    "    for entry in results_dir.iterdir():\n",
    "        if not entry.is_dir():\n",
    "            continue\n",
    "        m = pat.match(entry.name)\n",
    "        if not m:\n",
    "            continue\n",
    "        k = int(m.group(1))\n",
    "        csv_path = entry / 'metrics.csv'\n",
    "        if not csv_path.is_file():\n",
    "            continue\n",
    "        try:\n",
    "            df = pd.read_csv(csv_path)\n",
    "        except Exception as e:\n",
    "            print(f\"[WARN] Failed to read {csv_path}: {e}\")\n",
    "            continue\n",
    "        cols = [c.lower().strip() for c in df.columns.tolist()]\n",
    "        if 'total_waiting_time' in cols and 'total_energy_waste' in cols:\n",
    "            tw = float(df['total_waiting_time'].iloc[0])\n",
    "            te = float(df['total_energy_waste'].iloc[0])\n",
    "        else:\n",
    "            try:\n",
    "                tw = float(df.iloc[0, 0])\n",
    "                te = float(df.iloc[0, 1])\n",
    "            except Exception as e:\n",
    "                print(f\"[WARN] Bad format in {csv_path}: {e}\")\n",
    "                continue\n",
    "        rows.append((k, te, tw))\n",
    "    rows.sort(key=lambda x: x[0])\n",
    "    return rows\n",
    "\n",
    "def plot_bars(xs, ys, xlabel, ylabel, title, out_path):\n",
    "    import matplotlib.pyplot as plt\n",
    "    import numpy as np\n",
    "\n",
    "    # Map x labels to dense positions so bars are wider visually\n",
    "    idx = np.arange(len(xs))\n",
    "    fig, ax = plt.subplots()\n",
    "    bars = ax.bar(idx, ys, width=0.9)  # wider bars\n",
    "\n",
    "    # X ticks as the folder numbers\n",
    "    ax.set_xticks(idx, [str(x) for x in xs])\n",
    "    ax.set_xlabel(xlabel)\n",
    "    ax.set_ylabel(ylabel)\n",
    "    ax.set_title(title)\n",
    "\n",
    "    # Choose label format: integers -> %d, else -> %.2f\n",
    "    if all(float(y).is_integer() for y in ys):\n",
    "        fmt = '%d'\n",
    "    else:\n",
    "        fmt = '%.2f'\n",
    "\n",
    "    # Add value labels above bars\n",
    "    for rect, y in zip(bars, ys):\n",
    "        height = rect.get_height()\n",
    "        ax.text(rect.get_x() + rect.get_width()/2.0, height,\n",
    "                fmt % y,\n",
    "                ha='center', va='bottom', fontsize=8, rotation=0)\n",
    "\n",
    "    fig.tight_layout()\n",
    "    fig.savefig(out_path, dpi=150)\n",
    "    plt.show()\n"
   ]
  },
  {
   "cell_type": "code",
   "execution_count": 44,
   "id": "f926807c",
   "metadata": {},
   "outputs": [
    {
     "data": {
      "application/vnd.microsoft.datawrangler.viewer.v0+json": {
       "columns": [
        {
         "name": "index",
         "rawType": "int64",
         "type": "integer"
        },
        {
         "name": "folder",
         "rawType": "int64",
         "type": "integer"
        },
        {
         "name": "total_energy_waste",
         "rawType": "float64",
         "type": "float"
        },
        {
         "name": "total_waiting_time",
         "rawType": "float64",
         "type": "float"
        }
       ],
       "ref": "7715a2f9-45af-41b1-ad28-c8dd00df8e7f",
       "rows": [
        [
         "0",
         "300",
         "101619795.0",
         "3.8"
        ],
        [
         "1",
         "600",
         "148565946.0",
         "2.725"
        ],
        [
         "2",
         "900",
         "180658875.0",
         "2.175"
        ],
        [
         "3",
         "1200",
         "204049143.0",
         "1.725"
        ],
        [
         "4",
         "1500",
         "221418808.0",
         "1.45"
        ],
        [
         "5",
         "1800",
         "235363953.0",
         "1.25"
        ],
        [
         "6",
         "2100",
         "247139821.0",
         "1.05"
        ],
        [
         "7",
         "2400",
         "257199077.0",
         "1.0"
        ],
        [
         "8",
         "2700",
         "266719496.0",
         "0.975"
        ],
        [
         "9",
         "3000",
         "275722979.0",
         "0.9"
        ],
        [
         "10",
         "3300",
         "284446455.0",
         "0.8"
        ],
        [
         "11",
         "3600",
         "291848088.0",
         "0.675"
        ]
       ],
       "shape": {
        "columns": 3,
        "rows": 12
       }
      },
      "text/html": [
       "<div>\n",
       "<style scoped>\n",
       "    .dataframe tbody tr th:only-of-type {\n",
       "        vertical-align: middle;\n",
       "    }\n",
       "\n",
       "    .dataframe tbody tr th {\n",
       "        vertical-align: top;\n",
       "    }\n",
       "\n",
       "    .dataframe thead th {\n",
       "        text-align: right;\n",
       "    }\n",
       "</style>\n",
       "<table border=\"1\" class=\"dataframe\">\n",
       "  <thead>\n",
       "    <tr style=\"text-align: right;\">\n",
       "      <th></th>\n",
       "      <th>folder</th>\n",
       "      <th>total_energy_waste</th>\n",
       "      <th>total_waiting_time</th>\n",
       "    </tr>\n",
       "  </thead>\n",
       "  <tbody>\n",
       "    <tr>\n",
       "      <th>0</th>\n",
       "      <td>300</td>\n",
       "      <td>101619795.0</td>\n",
       "      <td>3.800</td>\n",
       "    </tr>\n",
       "    <tr>\n",
       "      <th>1</th>\n",
       "      <td>600</td>\n",
       "      <td>148565946.0</td>\n",
       "      <td>2.725</td>\n",
       "    </tr>\n",
       "    <tr>\n",
       "      <th>2</th>\n",
       "      <td>900</td>\n",
       "      <td>180658875.0</td>\n",
       "      <td>2.175</td>\n",
       "    </tr>\n",
       "    <tr>\n",
       "      <th>3</th>\n",
       "      <td>1200</td>\n",
       "      <td>204049143.0</td>\n",
       "      <td>1.725</td>\n",
       "    </tr>\n",
       "    <tr>\n",
       "      <th>4</th>\n",
       "      <td>1500</td>\n",
       "      <td>221418808.0</td>\n",
       "      <td>1.450</td>\n",
       "    </tr>\n",
       "    <tr>\n",
       "      <th>5</th>\n",
       "      <td>1800</td>\n",
       "      <td>235363953.0</td>\n",
       "      <td>1.250</td>\n",
       "    </tr>\n",
       "    <tr>\n",
       "      <th>6</th>\n",
       "      <td>2100</td>\n",
       "      <td>247139821.0</td>\n",
       "      <td>1.050</td>\n",
       "    </tr>\n",
       "    <tr>\n",
       "      <th>7</th>\n",
       "      <td>2400</td>\n",
       "      <td>257199077.0</td>\n",
       "      <td>1.000</td>\n",
       "    </tr>\n",
       "    <tr>\n",
       "      <th>8</th>\n",
       "      <td>2700</td>\n",
       "      <td>266719496.0</td>\n",
       "      <td>0.975</td>\n",
       "    </tr>\n",
       "    <tr>\n",
       "      <th>9</th>\n",
       "      <td>3000</td>\n",
       "      <td>275722979.0</td>\n",
       "      <td>0.900</td>\n",
       "    </tr>\n",
       "    <tr>\n",
       "      <th>10</th>\n",
       "      <td>3300</td>\n",
       "      <td>284446455.0</td>\n",
       "      <td>0.800</td>\n",
       "    </tr>\n",
       "    <tr>\n",
       "      <th>11</th>\n",
       "      <td>3600</td>\n",
       "      <td>291848088.0</td>\n",
       "      <td>0.675</td>\n",
       "    </tr>\n",
       "  </tbody>\n",
       "</table>\n",
       "</div>"
      ],
      "text/plain": [
       "    folder  total_energy_waste  total_waiting_time\n",
       "0      300         101619795.0               3.800\n",
       "1      600         148565946.0               2.725\n",
       "2      900         180658875.0               2.175\n",
       "3     1200         204049143.0               1.725\n",
       "4     1500         221418808.0               1.450\n",
       "5     1800         235363953.0               1.250\n",
       "6     2100         247139821.0               1.050\n",
       "7     2400         257199077.0               1.000\n",
       "8     2700         266719496.0               0.975\n",
       "9     3000         275722979.0               0.900\n",
       "10    3300         284446455.0               0.800\n",
       "11    3600         291848088.0               0.675"
      ]
     },
     "metadata": {},
     "output_type": "display_data"
    },
    {
     "data": {
      "image/png": "[encoded data removed]",
      "text/plain": [
       "<Figure size 640x480 with 1 Axes>"
      ]
     },
     "metadata": {},
     "output_type": "display_data"
    },
    {
     "data": {
      "image/png": "[encoded data removed]",
      "text/plain": [
       "<Figure size 640x480 with 1 Axes>"
      ]
     },
     "metadata": {},
     "output_type": "display_data"
    },
    {
     "name": "stdout",
     "output_type": "stream",
     "text": [
      "Saved: results\\plots\\summary.csv\n",
      "Saved: results\\plots\\energy_waste_bar.png\n",
      "Saved: results\\plots\\waiting_time_bar.png\n"
     ]
    }
   ],
   "source": [
    "\n",
    "rows = collect_metrics(results_dir)\n",
    "if not rows:\n",
    "    raise SystemExit(f\"No metrics found under {results_dir}/generated_*/metrics.csv\")\n",
    "\n",
    "xs  = [r[0] for r in rows]\n",
    "tew = [r[1] for r in rows]  # total_energy_waste\n",
    "twt = [r[2] for r in rows]  # total_waiting_time\n",
    "twt = (np.array(twt) / 200).tolist()\n",
    "\n",
    "# Save a summary table (optional)\n",
    "summary = pd.DataFrame({'folder': xs, 'total_energy_waste': tew, 'total_waiting_time': twt})\n",
    "summary_path = output_dir / 'summary.csv'\n",
    "summary.to_csv(summary_path, index=False)\n",
    "display(summary)\n",
    "\n",
    "# Plot 1: Energy waste bars\n",
    "plot_bars(xs, tew, 'Timeout Duration', 'Total energy waste',\n",
    "          'Energy Waste vs Timeout Duration', output_dir / 'energy_waste_bar.png')\n",
    "\n",
    "# Plot 2: Waiting time bars\n",
    "plot_bars(xs, twt, 'Timeout Duration', 'Mean waiting time',\n",
    "          'Waiting Time vs Timeout Duration', output_dir / 'waiting_time_bar.png')\n",
    "\n",
    "print(\"Saved:\", summary_path)\n",
    "print(\"Saved:\", output_dir / 'energy_waste_bar.png')\n",
    "print(\"Saved:\", output_dir / 'waiting_time_bar.png')\n"
   ]
  }
 ],
 "metadata": {
  "kernelspec": {
   "display_name": "SPARS-venv",
   "language": "python",
   "name": "python3"
  },
  "language_info": {
   "codemirror_mode": {
    "name": "ipython",
    "version": 3
   },
   "file_extension": ".py",
   "mimetype": "text/x-python",
   "name": "python",
   "nbconvert_exporter": "python",
   "pygments_lexer": "ipython3",
   "version": "3.11.5"
  }
 },
 "nbformat": 4,
 "nbformat_minor": 5
}
