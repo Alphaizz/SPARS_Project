{
 "cells": [
  {
   "cell_type": "markdown",
   "id": "c2f50d02",
   "metadata": {},
   "source": [
    "\n",
    "# Plot Metrics from `results/generated_*`\n",
    "\n",
    "This notebook scans folders like `results/generated_5`, `results/generated_10`, ..., `results/generated_60`,\n",
    "reads each `metrics.csv` (columns: `total_waiting_time,total_energy_waste`), and produces **two bar charts**:\n",
    "\n",
    "1. **Energy Waste vs Folder** — y = `total_energy_waste`, x = folder number (5,10,...,60).\n",
    "2. **Waiting Time vs Folder** — y = `total_waiting_time`, x = folder number (5,10,...,60).\n",
    "\n",
    "The figures are also saved to `results/plots/`.\n"
   ]
  },
  {
   "cell_type": "code",
   "execution_count": 9,
   "id": "0c40add1",
   "metadata": {},
   "outputs": [],
   "source": [
    "\n",
    "import os\n",
    "import re\n",
    "from pathlib import Path\n",
    "import pandas as pd\n",
    "import matplotlib.pyplot as plt\n",
    "\n",
    "# Inline plots\n",
    "%matplotlib inline\n"
   ]
  },
  {
   "cell_type": "code",
   "execution_count": 10,
   "id": "5564d3da",
   "metadata": {},
   "outputs": [
    {
     "name": "stdout",
     "output_type": "stream",
     "text": [
      "Results dir: D:\\Archive\\.projects\\SPARS\\SPARS\\results\n",
      "Output dir : D:\\Archive\\.projects\\SPARS\\SPARS\\results\\plots\n"
     ]
    }
   ],
   "source": [
    "\n",
    "# Change this if needed\n",
    "results_dir = Path('results')    # directory containing generated_* folders\n",
    "output_dir  = results_dir / 'plots'\n",
    "output_dir.mkdir(parents=True, exist_ok=True)\n",
    "print('Results dir:', results_dir.resolve())\n",
    "print('Output dir :', output_dir.resolve())\n"
   ]
  },
  {
   "cell_type": "code",
   "execution_count": 11,
   "id": "3fea8f4a",
   "metadata": {},
   "outputs": [],
   "source": [
    "\n",
    "def collect_metrics(results_dir: Path):\n",
    "    import re, pandas as pd, os\n",
    "    pat = re.compile(r'^generated_(\\d+)$')\n",
    "    rows = []\n",
    "    for entry in results_dir.iterdir():\n",
    "        if not entry.is_dir():\n",
    "            continue\n",
    "        m = pat.match(entry.name)\n",
    "        if not m:\n",
    "            continue\n",
    "        k = int(m.group(1))\n",
    "        csv_path = entry / 'metrics.csv'\n",
    "        if not csv_path.is_file():\n",
    "            continue\n",
    "        try:\n",
    "            df = pd.read_csv(csv_path)\n",
    "        except Exception as e:\n",
    "            print(f\"[WARN] Failed to read {csv_path}: {e}\")\n",
    "            continue\n",
    "        cols = [c.lower().strip() for c in df.columns.tolist()]\n",
    "        if 'total_waiting_time' in cols and 'total_energy_waste' in cols:\n",
    "            tw = float(df['total_waiting_time'].iloc[0])\n",
    "            te = float(df['total_energy_waste'].iloc[0])\n",
    "        else:\n",
    "            try:\n",
    "                tw = float(df.iloc[0, 0])\n",
    "                te = float(df.iloc[0, 1])\n",
    "            except Exception as e:\n",
    "                print(f\"[WARN] Bad format in {csv_path}: {e}\")\n",
    "                continue\n",
    "        rows.append((k, te, tw))\n",
    "    rows.sort(key=lambda x: x[0])\n",
    "    return rows\n",
    "\n",
    "def plot_bars(xs, ys, xlabel, ylabel, title, out_path):\n",
    "    import matplotlib.pyplot as plt\n",
    "    import numpy as np\n",
    "\n",
    "    # Map x labels to dense positions so bars are wider visually\n",
    "    idx = np.arange(len(xs))\n",
    "    fig, ax = plt.subplots()\n",
    "    bars = ax.bar(idx, ys, width=0.9)  # wider bars\n",
    "\n",
    "    # X ticks as the folder numbers\n",
    "    ax.set_xticks(idx, [str(x) for x in xs])\n",
    "    ax.set_xlabel(xlabel)\n",
    "    ax.set_ylabel(ylabel)\n",
    "    ax.set_title(title)\n",
    "\n",
    "    # Choose label format: integers -> %d, else -> %.2f\n",
    "    if all(float(y).is_integer() for y in ys):\n",
    "        fmt = '%d'\n",
    "    else:\n",
    "        fmt = '%.2f'\n",
    "\n",
    "    # Add value labels above bars\n",
    "    for rect, y in zip(bars, ys):\n",
    "        height = rect.get_height()\n",
    "        ax.text(rect.get_x() + rect.get_width()/2.0, height,\n",
    "                fmt % y,\n",
    "                ha='center', va='bottom', fontsize=8, rotation=0)\n",
    "\n",
    "    fig.tight_layout()\n",
    "    fig.savefig(out_path, dpi=150)\n",
    "    plt.show()\n"
   ]
  },
  {
   "cell_type": "code",
   "execution_count": 12,
   "id": "f926807c",
   "metadata": {},
   "outputs": [
    {
     "data": {
      "application/vnd.microsoft.datawrangler.viewer.v0+json": {
       "columns": [
        {
         "name": "index",
         "rawType": "int64",
         "type": "integer"
        },
        {
         "name": "folder",
         "rawType": "int64",
         "type": "integer"
        },
        {
         "name": "total_energy_waste",
         "rawType": "float64",
         "type": "float"
        },
        {
         "name": "total_waiting_time",
         "rawType": "float64",
         "type": "float"
        }
       ],
       "ref": "f9ce5c0e-7a50-49cc-a69c-53caf6d54a69",
       "rows": [
        [
         "0",
         "5",
         "198009.0",
         "75827.0"
        ],
        [
         "1",
         "10",
         "243501.0",
         "74389.0"
        ],
        [
         "2",
         "15",
         "276123.0",
         "74086.0"
        ],
        [
         "3",
         "20",
         "292158.0",
         "73842.0"
        ],
        [
         "4",
         "25",
         "345027.0",
         "72970.0"
        ],
        [
         "5",
         "30",
         "339186.0",
         "72492.0"
        ],
        [
         "6",
         "35",
         "350580.0",
         "72301.0"
        ],
        [
         "7",
         "40",
         "371484.0",
         "72229.0"
        ],
        [
         "8",
         "45",
         "426585.0",
         "73823.0"
        ],
        [
         "9",
         "50",
         "467412.0",
         "73528.0"
        ],
        [
         "10",
         "55",
         "470178.0",
         "74241.0"
        ],
        [
         "11",
         "60",
         "511866.0",
         "73771.0"
        ]
       ],
       "shape": {
        "columns": 3,
        "rows": 12
       }
      },
      "text/html": [
       "<div>\n",
       "<style scoped>\n",
       "    .dataframe tbody tr th:only-of-type {\n",
       "        vertical-align: middle;\n",
       "    }\n",
       "\n",
       "    .dataframe tbody tr th {\n",
       "        vertical-align: top;\n",
       "    }\n",
       "\n",
       "    .dataframe thead th {\n",
       "        text-align: right;\n",
       "    }\n",
       "</style>\n",
       "<table border=\"1\" class=\"dataframe\">\n",
       "  <thead>\n",
       "    <tr style=\"text-align: right;\">\n",
       "      <th></th>\n",
       "      <th>folder</th>\n",
       "      <th>total_energy_waste</th>\n",
       "      <th>total_waiting_time</th>\n",
       "    </tr>\n",
       "  </thead>\n",
       "  <tbody>\n",
       "    <tr>\n",
       "      <th>0</th>\n",
       "      <td>5</td>\n",
       "      <td>198009.0</td>\n",
       "      <td>75827.0</td>\n",
       "    </tr>\n",
       "    <tr>\n",
       "      <th>1</th>\n",
       "      <td>10</td>\n",
       "      <td>243501.0</td>\n",
       "      <td>74389.0</td>\n",
       "    </tr>\n",
       "    <tr>\n",
       "      <th>2</th>\n",
       "      <td>15</td>\n",
       "      <td>276123.0</td>\n",
       "      <td>74086.0</td>\n",
       "    </tr>\n",
       "    <tr>\n",
       "      <th>3</th>\n",
       "      <td>20</td>\n",
       "      <td>292158.0</td>\n",
       "      <td>73842.0</td>\n",
       "    </tr>\n",
       "    <tr>\n",
       "      <th>4</th>\n",
       "      <td>25</td>\n",
       "      <td>345027.0</td>\n",
       "      <td>72970.0</td>\n",
       "    </tr>\n",
       "    <tr>\n",
       "      <th>5</th>\n",
       "      <td>30</td>\n",
       "      <td>339186.0</td>\n",
       "      <td>72492.0</td>\n",
       "    </tr>\n",
       "    <tr>\n",
       "      <th>6</th>\n",
       "      <td>35</td>\n",
       "      <td>350580.0</td>\n",
       "      <td>72301.0</td>\n",
       "    </tr>\n",
       "    <tr>\n",
       "      <th>7</th>\n",
       "      <td>40</td>\n",
       "      <td>371484.0</td>\n",
       "      <td>72229.0</td>\n",
       "    </tr>\n",
       "    <tr>\n",
       "      <th>8</th>\n",
       "      <td>45</td>\n",
       "      <td>426585.0</td>\n",
       "      <td>73823.0</td>\n",
       "    </tr>\n",
       "    <tr>\n",
       "      <th>9</th>\n",
       "      <td>50</td>\n",
       "      <td>467412.0</td>\n",
       "      <td>73528.0</td>\n",
       "    </tr>\n",
       "    <tr>\n",
       "      <th>10</th>\n",
       "      <td>55</td>\n",
       "      <td>470178.0</td>\n",
       "      <td>74241.0</td>\n",
       "    </tr>\n",
       "    <tr>\n",
       "      <th>11</th>\n",
       "      <td>60</td>\n",
       "      <td>511866.0</td>\n",
       "      <td>73771.0</td>\n",
       "    </tr>\n",
       "  </tbody>\n",
       "</table>\n",
       "</div>"
      ],
      "text/plain": [
       "    folder  total_energy_waste  total_waiting_time\n",
       "0        5            198009.0             75827.0\n",
       "1       10            243501.0             74389.0\n",
       "2       15            276123.0             74086.0\n",
       "3       20            292158.0             73842.0\n",
       "4       25            345027.0             72970.0\n",
       "5       30            339186.0             72492.0\n",
       "6       35            350580.0             72301.0\n",
       "7       40            371484.0             72229.0\n",
       "8       45            426585.0             73823.0\n",
       "9       50            467412.0             73528.0\n",
       "10      55            470178.0             74241.0\n",
       "11      60            511866.0             73771.0"
      ]
     },
     "metadata": {},
     "output_type": "display_data"
    },
    {
     "data": {
      "image/png": "[encoded data removed]",
      "text/plain": [
       "<Figure size 640x480 with 1 Axes>"
      ]
     },
     "metadata": {},
     "output_type": "display_data"
    },
    {
     "data": {
      "image/png": "[encoded data removed]",
      "text/plain": [
       "<Figure size 640x480 with 1 Axes>"
      ]
     },
     "metadata": {},
     "output_type": "display_data"
    },
    {
     "name": "stdout",
     "output_type": "stream",
     "text": [
      "Saved: results\\plots\\summary.csv\n",
      "Saved: results\\plots\\energy_waste_bar.png\n",
      "Saved: results\\plots\\waiting_time_bar.png\n"
     ]
    }
   ],
   "source": [
    "\n",
    "rows = collect_metrics(results_dir)\n",
    "if not rows:\n",
    "    raise SystemExit(f\"No metrics found under {results_dir}/generated_*/metrics.csv\")\n",
    "\n",
    "xs  = [r[0] for r in rows]\n",
    "tew = [r[1] for r in rows]  # total_energy_waste\n",
    "twt = [r[2] for r in rows]  # total_waiting_time\n",
    "\n",
    "# Save a summary table (optional)\n",
    "summary = pd.DataFrame({'folder': xs, 'total_energy_waste': tew, 'total_waiting_time': twt})\n",
    "summary_path = output_dir / 'summary.csv'\n",
    "summary.to_csv(summary_path, index=False)\n",
    "display(summary)\n",
    "\n",
    "# Plot 1: Energy waste bars\n",
    "plot_bars(xs, tew, 'Folder number', 'Total energy waste',\n",
    "          'Energy Waste vs Folder', output_dir / 'energy_waste_bar.png')\n",
    "\n",
    "# Plot 2: Waiting time bars\n",
    "plot_bars(xs, twt, 'Folder number', 'Total waiting time',\n",
    "          'Waiting Time vs Folder', output_dir / 'waiting_time_bar.png')\n",
    "\n",
    "print(\"Saved:\", summary_path)\n",
    "print(\"Saved:\", output_dir / 'energy_waste_bar.png')\n",
    "print(\"Saved:\", output_dir / 'waiting_time_bar.png')\n"
   ]
  }
 ],
 "metadata": {
  "kernelspec": {
   "display_name": "SPARS-venv",
   "language": "python",
   "name": "python3"
  },
  "language_info": {
   "codemirror_mode": {
    "name": "ipython",
    "version": 3
   },
   "file_extension": ".py",
   "mimetype": "text/x-python",
   "name": "python",
   "nbconvert_exporter": "python",
   "pygments_lexer": "ipython3",
   "version": "3.11.5"
  }
 },
 "nbformat": 4,
 "nbformat_minor": 5
}
