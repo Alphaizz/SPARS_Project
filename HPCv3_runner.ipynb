{
 "cells": [
  {
   "cell_type": "code",
   "execution_count": 11,
   "id": "1a3fdf17",
   "metadata": {},
   "outputs": [],
   "source": [
    "from HPCv3.Simulator.Simulator import Simulator, run_simulation\n",
    "from HPCv3.RJMS.RJMS import RJMS\n",
    "\n",
    "from datetime import datetime"
   ]
  },
  {
   "cell_type": "code",
   "execution_count": 20,
   "id": "b480183c",
   "metadata": {},
   "outputs": [],
   "source": [
    "# Path to workload JSON file\n",
    "workload_path = \"workloads/generated.json\" \n",
    "# Path to platform JSON file\n",
    "platform_path = \"platforms/generated.json\"\n",
    "# Path to output folder\n",
    "output_path = \"results/generated\"\n",
    "# Scheduling algorithm name\n",
    "algorithm = \"fcfs\"\n",
    "# Simulation timeout in seconds (optional)\n",
    "timeout = None\n",
    "# Time in format YYYY-MM-DD HH:MM:SS (optional). If not provided, starts at 0.\n",
    "start_time = None"
   ]
  },
  {
   "cell_type": "code",
   "execution_count": null,
   "id": "4977f86f",
   "metadata": {},
   "outputs": [
    {
     "name": "stdout",
     "output_type": "stream",
     "text": [
      "[simulator send message to RJMS] {'now': 0, 'event_list': [{'timestamp': 0, 'events': [{'job_id': 1, 'res': 5, 'subtime': 0, 'walltime': 51, 'profile': '100', 'user_id': 0, 'type': 'arrival'}, {'job_id': 2, 'res': 4, 'subtime': 0, 'walltime': 51, 'profile': '100', 'user_id': 0, 'type': 'arrival'}, {'job_id': 3, 'res': 4, 'subtime': 0, 'walltime': 50, 'profile': '100', 'user_id': 0, 'type': 'arrival'}, {'job_id': 4, 'res': 4, 'subtime': 0, 'walltime': 50, 'profile': '100', 'user_id': 0, 'type': 'arrival'}, {'job_id': 5, 'res': 3, 'subtime': 0, 'walltime': 52, 'profile': '100', 'user_id': 0, 'type': 'arrival'}, {'job_id': 6, 'res': 5, 'subtime': 0, 'walltime': 54, 'profile': '100', 'user_id': 0, 'type': 'arrival'}, {'job_id': 7, 'res': 5, 'subtime': 0, 'walltime': 51, 'profile': '100', 'user_id': 0, 'type': 'arrival'}, {'job_id': 8, 'res': 4, 'subtime': 0, 'walltime': 47, 'profile': '100', 'user_id': 0, 'type': 'arrival'}, {'job_id': 9, 'res': 4, 'subtime': 0, 'walltime': 50, 'profile': '100', 'user_id': 0, 'type': 'arrival'}, {'job_id': 10, 'res': 3, 'subtime': 0, 'walltime': 49, 'profile': '100', 'user_id': 0, 'type': 'arrival'}, {'job_id': 11, 'res': 3, 'subtime': 0, 'walltime': 52, 'profile': '100', 'user_id': 0, 'type': 'arrival'}, {'job_id': 12, 'res': 3, 'subtime': 0, 'walltime': 48, 'profile': '100', 'user_id': 0, 'type': 'arrival'}, {'job_id': 13, 'res': 3, 'subtime': 0, 'walltime': 50, 'profile': '100', 'user_id': 0, 'type': 'arrival'}, {'job_id': 14, 'res': 3, 'subtime': 0, 'walltime': 51, 'profile': '100', 'user_id': 0, 'type': 'arrival'}, {'job_id': 15, 'res': 4, 'subtime': 0, 'walltime': 50, 'profile': '100', 'user_id': 0, 'type': 'arrival'}, {'job_id': 16, 'res': 2, 'subtime': 0, 'walltime': 52, 'profile': '100', 'user_id': 0, 'type': 'arrival'}, {'job_id': 17, 'res': 4, 'subtime': 0, 'walltime': 49, 'profile': '100', 'user_id': 0, 'type': 'arrival'}, {'job_id': 18, 'res': 4, 'subtime': 0, 'walltime': 47, 'profile': '100', 'user_id': 0, 'type': 'arrival'}, {'job_id': 19, 'res': 4, 'subtime': 0, 'walltime': 51, 'profile': '100', 'user_id': 0, 'type': 'arrival'}, {'job_id': 20, 'res': 2, 'subtime': 0, 'walltime': 49, 'profile': '100', 'user_id': 0, 'type': 'arrival'}, {'job_id': 21, 'res': 5, 'subtime': 0, 'walltime': 48, 'profile': '100', 'user_id': 0, 'type': 'arrival'}, {'job_id': 22, 'res': 3, 'subtime': 0, 'walltime': 47, 'profile': '100', 'user_id': 0, 'type': 'arrival'}, {'job_id': 23, 'res': 3, 'subtime': 0, 'walltime': 48, 'profile': '100', 'user_id': 0, 'type': 'arrival'}, {'job_id': 24, 'res': 2, 'subtime': 0, 'walltime': 50, 'profile': '100', 'user_id': 0, 'type': 'arrival'}, {'job_id': 25, 'res': 3, 'subtime': 0, 'walltime': 50, 'profile': '100', 'user_id': 0, 'type': 'arrival'}, {'job_id': 26, 'res': 2, 'subtime': 0, 'walltime': 54, 'profile': '100', 'user_id': 0, 'type': 'arrival'}, {'job_id': 27, 'res': 5, 'subtime': 0, 'walltime': 50, 'profile': '100', 'user_id': 0, 'type': 'arrival'}, {'job_id': 28, 'res': 4, 'subtime': 0, 'walltime': 49, 'profile': '100', 'user_id': 0, 'type': 'arrival'}, {'job_id': 29, 'res': 3, 'subtime': 0, 'walltime': 47, 'profile': '100', 'user_id': 0, 'type': 'arrival'}, {'job_id': 30, 'res': 4, 'subtime': 0, 'walltime': 48, 'profile': '100', 'user_id': 0, 'type': 'arrival'}, {'job_id': 31, 'res': 5, 'subtime': 0, 'walltime': 48, 'profile': '100', 'user_id': 0, 'type': 'arrival'}, {'job_id': 32, 'res': 5, 'subtime': 0, 'walltime': 50, 'profile': '100', 'user_id': 0, 'type': 'arrival'}, {'job_id': 33, 'res': 3, 'subtime': 0, 'walltime': 49, 'profile': '100', 'user_id': 0, 'type': 'arrival'}, {'job_id': 34, 'res': 3, 'subtime': 0, 'walltime': 49, 'profile': '100', 'user_id': 0, 'type': 'arrival'}, {'job_id': 35, 'res': 6, 'subtime': 0, 'walltime': 47, 'profile': '100', 'user_id': 0, 'type': 'arrival'}, {'job_id': 36, 'res': 2, 'subtime': 0, 'walltime': 49, 'profile': '100', 'user_id': 0, 'type': 'arrival'}, {'job_id': 37, 'res': 5, 'subtime': 0, 'walltime': 50, 'profile': '100', 'user_id': 0, 'type': 'arrival'}, {'job_id': 38, 'res': 6, 'subtime': 0, 'walltime': 49, 'profile': '100', 'user_id': 0, 'type': 'arrival'}, {'job_id': 39, 'res': 3, 'subtime': 0, 'walltime': 49, 'profile': '100', 'user_id': 0, 'type': 'arrival'}, {'job_id': 40, 'res': 3, 'subtime': 0, 'walltime': 53, 'profile': '100', 'user_id': 0, 'type': 'arrival'}, {'job_id': 41, 'res': 4, 'subtime': 0, 'walltime': 55, 'profile': '100', 'user_id': 0, 'type': 'arrival'}, {'job_id': 42, 'res': 2, 'subtime': 0, 'walltime': 49, 'profile': '100', 'user_id': 0, 'type': 'arrival'}, {'job_id': 43, 'res': 2, 'subtime': 0, 'walltime': 52, 'profile': '100', 'user_id': 0, 'type': 'arrival'}, {'job_id': 44, 'res': 1, 'subtime': 0, 'walltime': 52, 'profile': '100', 'user_id': 0, 'type': 'arrival'}, {'job_id': 45, 'res': 4, 'subtime': 0, 'walltime': 53, 'profile': '100', 'user_id': 0, 'type': 'arrival'}, {'job_id': 46, 'res': 4, 'subtime': 0, 'walltime': 50, 'profile': '100', 'user_id': 0, 'type': 'arrival'}, {'job_id': 47, 'res': 4, 'subtime': 0, 'walltime': 48, 'profile': '100', 'user_id': 0, 'type': 'arrival'}, {'job_id': 48, 'res': 4, 'subtime': 0, 'walltime': 50, 'profile': '100', 'user_id': 0, 'type': 'arrival'}, {'job_id': 49, 'res': 4, 'subtime': 0, 'walltime': 49, 'profile': '100', 'user_id': 0, 'type': 'arrival'}, {'job_id': 50, 'res': 4, 'subtime': 0, 'walltime': 50, 'profile': '100', 'user_id': 0, 'type': 'arrival'}, {'job_id': 51, 'res': 3, 'subtime': 0, 'walltime': 52, 'profile': '100', 'user_id': 0, 'type': 'arrival'}, {'job_id': 52, 'res': 5, 'subtime': 0, 'walltime': 50, 'profile': '100', 'user_id': 0, 'type': 'arrival'}, {'job_id': 53, 'res': 2, 'subtime': 0, 'walltime': 48, 'profile': '100', 'user_id': 0, 'type': 'arrival'}, {'job_id': 54, 'res': 3, 'subtime': 0, 'walltime': 50, 'profile': '100', 'user_id': 0, 'type': 'arrival'}, {'job_id': 55, 'res': 5, 'subtime': 0, 'walltime': 51, 'profile': '100', 'user_id': 0, 'type': 'arrival'}, {'job_id': 56, 'res': 4, 'subtime': 0, 'walltime': 50, 'profile': '100', 'user_id': 0, 'type': 'arrival'}, {'job_id': 57, 'res': 3, 'subtime': 0, 'walltime': 50, 'profile': '100', 'user_id': 0, 'type': 'arrival'}, {'job_id': 58, 'res': 3, 'subtime': 0, 'walltime': 50, 'profile': '100', 'user_id': 0, 'type': 'arrival'}, {'job_id': 59, 'res': 4, 'subtime': 0, 'walltime': 48, 'profile': '100', 'user_id': 0, 'type': 'arrival'}, {'job_id': 60, 'res': 4, 'subtime': 0, 'walltime': 51, 'profile': '100', 'user_id': 0, 'type': 'arrival'}, {'job_id': 61, 'res': 1, 'subtime': 0, 'walltime': 49, 'profile': '100', 'user_id': 0, 'type': 'arrival'}, {'job_id': 62, 'res': 4, 'subtime': 0, 'walltime': 49, 'profile': '100', 'user_id': 0, 'type': 'arrival'}, {'job_id': 63, 'res': 4, 'subtime': 0, 'walltime': 51, 'profile': '100', 'user_id': 0, 'type': 'arrival'}, {'job_id': 64, 'res': 4, 'subtime': 0, 'walltime': 52, 'profile': '100', 'user_id': 0, 'type': 'arrival'}, {'job_id': 65, 'res': 5, 'subtime': 0, 'walltime': 50, 'profile': '100', 'user_id': 0, 'type': 'arrival'}, {'job_id': 66, 'res': 4, 'subtime': 0, 'walltime': 48, 'profile': '100', 'user_id': 0, 'type': 'arrival'}, {'job_id': 67, 'res': 2, 'subtime': 0, 'walltime': 50, 'profile': '100', 'user_id': 0, 'type': 'arrival'}, {'job_id': 68, 'res': 3, 'subtime': 0, 'walltime': 53, 'profile': '100', 'user_id': 0, 'type': 'arrival'}, {'job_id': 69, 'res': 4, 'subtime': 0, 'walltime': 51, 'profile': '100', 'user_id': 0, 'type': 'arrival'}, {'job_id': 70, 'res': 5, 'subtime': 0, 'walltime': 47, 'profile': '100', 'user_id': 0, 'type': 'arrival'}, {'job_id': 71, 'res': 2, 'subtime': 0, 'walltime': 52, 'profile': '100', 'user_id': 0, 'type': 'arrival'}, {'job_id': 72, 'res': 3, 'subtime': 0, 'walltime': 49, 'profile': '100', 'user_id': 0, 'type': 'arrival'}, {'job_id': 73, 'res': 5, 'subtime': 0, 'walltime': 52, 'profile': '100', 'user_id': 0, 'type': 'arrival'}, {'job_id': 74, 'res': 3, 'subtime': 0, 'walltime': 48, 'profile': '100', 'user_id': 0, 'type': 'arrival'}, {'job_id': 75, 'res': 5, 'subtime': 0, 'walltime': 48, 'profile': '100', 'user_id': 0, 'type': 'arrival'}, {'job_id': 76, 'res': 5, 'subtime': 0, 'walltime': 44, 'profile': '100', 'user_id': 0, 'type': 'arrival'}, {'job_id': 77, 'res': 4, 'subtime': 0, 'walltime': 48, 'profile': '100', 'user_id': 0, 'type': 'arrival'}, {'job_id': 78, 'res': 3, 'subtime': 0, 'walltime': 50, 'profile': '100', 'user_id': 0, 'type': 'arrival'}, {'job_id': 79, 'res': 4, 'subtime': 0, 'walltime': 49, 'profile': '100', 'user_id': 0, 'type': 'arrival'}, {'job_id': 80, 'res': 3, 'subtime': 0, 'walltime': 50, 'profile': '100', 'user_id': 0, 'type': 'arrival'}, {'job_id': 81, 'res': 6, 'subtime': 0, 'walltime': 51, 'profile': '100', 'user_id': 0, 'type': 'arrival'}, {'job_id': 82, 'res': 4, 'subtime': 0, 'walltime': 55, 'profile': '100', 'user_id': 0, 'type': 'arrival'}, {'job_id': 83, 'res': 4, 'subtime': 0, 'walltime': 49, 'profile': '100', 'user_id': 0, 'type': 'arrival'}, {'job_id': 84, 'res': 5, 'subtime': 0, 'walltime': 48, 'profile': '100', 'user_id': 0, 'type': 'arrival'}, {'job_id': 85, 'res': 2, 'subtime': 0, 'walltime': 51, 'profile': '100', 'user_id': 0, 'type': 'arrival'}, {'job_id': 86, 'res': 4, 'subtime': 0, 'walltime': 52, 'profile': '100', 'user_id': 0, 'type': 'arrival'}, {'job_id': 87, 'res': 3, 'subtime': 0, 'walltime': 51, 'profile': '100', 'user_id': 0, 'type': 'arrival'}, {'job_id': 88, 'res': 5, 'subtime': 0, 'walltime': 52, 'profile': '100', 'user_id': 0, 'type': 'arrival'}, {'job_id': 89, 'res': 3, 'subtime': 0, 'walltime': 52, 'profile': '100', 'user_id': 0, 'type': 'arrival'}, {'job_id': 90, 'res': 3, 'subtime': 0, 'walltime': 51, 'profile': '100', 'user_id': 0, 'type': 'arrival'}, {'job_id': 91, 'res': 1, 'subtime': 0, 'walltime': 51, 'profile': '100', 'user_id': 0, 'type': 'arrival'}, {'job_id': 92, 'res': 4, 'subtime': 0, 'walltime': 47, 'profile': '100', 'user_id': 0, 'type': 'arrival'}, {'job_id': 93, 'res': 3, 'subtime': 0, 'walltime': 48, 'profile': '100', 'user_id': 0, 'type': 'arrival'}, {'job_id': 94, 'res': 4, 'subtime': 0, 'walltime': 51, 'profile': '100', 'user_id': 0, 'type': 'arrival'}, {'job_id': 95, 'res': 3, 'subtime': 0, 'walltime': 52, 'profile': '100', 'user_id': 0, 'type': 'arrival'}, {'job_id': 96, 'res': 3, 'subtime': 0, 'walltime': 49, 'profile': '100', 'user_id': 0, 'type': 'arrival'}, {'job_id': 97, 'res': 3, 'subtime': 0, 'walltime': 46, 'profile': '100', 'user_id': 0, 'type': 'arrival'}, {'job_id': 98, 'res': 5, 'subtime': 0, 'walltime': 48, 'profile': '100', 'user_id': 0, 'type': 'arrival'}, {'job_id': 99, 'res': 3, 'subtime': 0, 'walltime': 51, 'profile': '100', 'user_id': 0, 'type': 'arrival'}, {'job_id': 100, 'res': 3, 'subtime': 0, 'walltime': 50, 'profile': '100', 'user_id': 0, 'type': 'arrival'}, {'type': 'simulation_start'}]}]}\n"
     ]
    }
   ],
   "source": [
    "if start_time is not None:\n",
    "    start_time = int(datetime.strptime(start_time, \"%Y-%m-%d %H:%M:%S\").timestamp())\n",
    "    human_readable = True\n",
    "else:\n",
    "    start_time = 0\n",
    "    human_readable = False\n",
    "\n",
    "simulator = Simulator(workload_path, platform_path, start_time)\n",
    "rjms = RJMS(platform_path, algorithm, start_time, timeout)\n",
    "run_simulation(simulator, rjms, human_readable, output_path)"
   ]
  }
 ],
 "metadata": {
  "kernelspec": {
   "display_name": "hpcv3-venv",
   "language": "python",
   "name": "python3"
  },
  "language_info": {
   "codemirror_mode": {
    "name": "ipython",
    "version": 3
   },
   "file_extension": ".py",
   "mimetype": "text/x-python",
   "name": "python",
   "nbconvert_exporter": "python",
   "pygments_lexer": "ipython3",
   "version": "3.13.7"
  }
 },
 "nbformat": 4,
 "nbformat_minor": 5
}
