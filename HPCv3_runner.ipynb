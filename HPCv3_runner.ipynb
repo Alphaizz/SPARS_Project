{
 "cells": [
  {
   "cell_type": "code",
   "execution_count": null,
   "id": "1a3fdf17",
   "metadata": {},
   "outputs": [],
   "source": [
    "from HPCv3.Simulator.Simulator import Simulator, run_simulation\n",
    "from HPCv3.RJMS.RJMS import RJMS\n",
    "\n",
    "from datetime import datetime"
   ]
  },
  {
   "cell_type": "code",
   "execution_count": null,
   "id": "b480183c",
   "metadata": {},
   "outputs": [],
   "source": [
    "# Path to workload JSON file\n",
    "workload_path = \"\" \n",
    "# Path to platform JSON file\n",
    "platform_path = \"\"\n",
    "# Path to output folder\n",
    "output_path = \"\"\n",
    "# Scheduling algorithm name\n",
    "algorithm = \"\"\n",
    "# Simulation timeout in seconds (optional)\n",
    "timeout = None\n",
    "# Time in format YYYY-MM-DD HH:MM:SS (optional). If not provided, starts at 0.\n",
    "start_time = None"
   ]
  },
  {
   "cell_type": "code",
   "execution_count": null,
   "id": "4977f86f",
   "metadata": {},
   "outputs": [],
   "source": [
    "if start_time is not None:\n",
    "    start_time = int(datetime.strptime(start_time, \"%Y-%m-%d %H:%M:%S\").timestamp())\n",
    "    human_readable = True\n",
    "else:\n",
    "    start_time = 0\n",
    "    human_readable = False\n",
    "\n",
    "simulator = Simulator(workload_path, platform_path, start_time)\n",
    "rjms = RJMS(platform_path, algorithm, start_time, timeout)\n",
    "run_simulation(simulator, rjms, human_readable, output_path)"
   ]
  }
 ],
 "metadata": {
  "language_info": {
   "name": "python"
  }
 },
 "nbformat": 4,
 "nbformat_minor": 5
}
